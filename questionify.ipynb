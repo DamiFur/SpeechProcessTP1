{
 "cells": [
  {
   "cell_type": "code",
   "execution_count": 1,
   "metadata": {},
   "outputs": [
    {
     "name": "stdout",
     "output_type": "stream",
     "text": [
      "Populating the interactive namespace from numpy and matplotlib\n"
     ]
    }
   ],
   "source": [
    "%load_ext autoreload\n",
    "%autoreload 2\n",
    "%pylab inline"
   ]
  },
  {
   "cell_type": "code",
   "execution_count": 2,
   "metadata": {
    "collapsed": true
   },
   "outputs": [],
   "source": [
    "from utils.pitch_tier import get_pitch_tier\n",
    "import seaborn\n",
    "import pandas as pd\n",
    "from pydub import AudioSegment\n",
    "import utils.pitch_tier"
   ]
  },
  {
   "cell_type": "code",
   "execution_count": 3,
   "metadata": {
    "collapsed": true
   },
   "outputs": [],
   "source": [
    "wav_path = \"examples/12345.wav\"\n"
   ]
  },
  {
   "cell_type": "code",
   "execution_count": 4,
   "metadata": {},
   "outputs": [
    {
     "ename": "IOError",
     "evalue": "[Errno 2] No such file or directory: 'examples/12345.wav'",
     "output_type": "error",
     "traceback": [
      "\u001b[0;31m---------------------------------------------------------------------------\u001b[0m",
      "\u001b[0;31mIOError\u001b[0m                                   Traceback (most recent call last)",
      "\u001b[0;32m<ipython-input-4-5c000d16550d>\u001b[0m in \u001b[0;36m<module>\u001b[0;34m()\u001b[0m\n\u001b[0;32m----> 1\u001b[0;31m \u001b[0mwav\u001b[0m \u001b[0;34m=\u001b[0m \u001b[0mAudioSegment\u001b[0m\u001b[0;34m.\u001b[0m\u001b[0mfrom_file\u001b[0m\u001b[0;34m(\u001b[0m\u001b[0mwav_path\u001b[0m\u001b[0;34m)\u001b[0m\u001b[0;34m\u001b[0m\u001b[0m\n\u001b[0m\u001b[1;32m      2\u001b[0m \u001b[0;34m\u001b[0m\u001b[0m\n\u001b[1;32m      3\u001b[0m \u001b[0mwav\u001b[0m\u001b[0;34m\u001b[0m\u001b[0m\n",
      "\u001b[0;32m/home/marat/.pyenv/versions/2.7.12/envs/habla/lib/python2.7/site-packages/pydub/audio_segment.pyc\u001b[0m in \u001b[0;36mfrom_file\u001b[0;34m(cls, file, format, codec, parameters, **kwargs)\u001b[0m\n\u001b[1;32m    430\u001b[0m     \u001b[0;32mdef\u001b[0m \u001b[0mfrom_file\u001b[0m\u001b[0;34m(\u001b[0m\u001b[0mcls\u001b[0m\u001b[0;34m,\u001b[0m \u001b[0mfile\u001b[0m\u001b[0;34m,\u001b[0m \u001b[0mformat\u001b[0m\u001b[0;34m=\u001b[0m\u001b[0mNone\u001b[0m\u001b[0;34m,\u001b[0m \u001b[0mcodec\u001b[0m\u001b[0;34m=\u001b[0m\u001b[0mNone\u001b[0m\u001b[0;34m,\u001b[0m \u001b[0mparameters\u001b[0m\u001b[0;34m=\u001b[0m\u001b[0mNone\u001b[0m\u001b[0;34m,\u001b[0m \u001b[0;34m**\u001b[0m\u001b[0mkwargs\u001b[0m\u001b[0;34m)\u001b[0m\u001b[0;34m:\u001b[0m\u001b[0;34m\u001b[0m\u001b[0m\n\u001b[1;32m    431\u001b[0m         \u001b[0morig_file\u001b[0m \u001b[0;34m=\u001b[0m \u001b[0mfile\u001b[0m\u001b[0;34m\u001b[0m\u001b[0m\n\u001b[0;32m--> 432\u001b[0;31m         \u001b[0mfile\u001b[0m \u001b[0;34m=\u001b[0m \u001b[0m_fd_or_path_or_tempfile\u001b[0m\u001b[0;34m(\u001b[0m\u001b[0mfile\u001b[0m\u001b[0;34m,\u001b[0m \u001b[0;34m'rb'\u001b[0m\u001b[0;34m,\u001b[0m \u001b[0mtempfile\u001b[0m\u001b[0;34m=\u001b[0m\u001b[0mFalse\u001b[0m\u001b[0;34m)\u001b[0m\u001b[0;34m\u001b[0m\u001b[0m\n\u001b[0m\u001b[1;32m    433\u001b[0m \u001b[0;34m\u001b[0m\u001b[0m\n\u001b[1;32m    434\u001b[0m         \u001b[0;32mif\u001b[0m \u001b[0mformat\u001b[0m\u001b[0;34m:\u001b[0m\u001b[0;34m\u001b[0m\u001b[0m\n",
      "\u001b[0;32m/home/marat/.pyenv/versions/2.7.12/envs/habla/lib/python2.7/site-packages/pydub/utils.pyc\u001b[0m in \u001b[0;36m_fd_or_path_or_tempfile\u001b[0;34m(fd, mode, tempfile)\u001b[0m\n\u001b[1;32m     57\u001b[0m \u001b[0;34m\u001b[0m\u001b[0m\n\u001b[1;32m     58\u001b[0m     \u001b[0;32mif\u001b[0m \u001b[0misinstance\u001b[0m\u001b[0;34m(\u001b[0m\u001b[0mfd\u001b[0m\u001b[0;34m,\u001b[0m \u001b[0mbasestring\u001b[0m\u001b[0;34m)\u001b[0m\u001b[0;34m:\u001b[0m\u001b[0;34m\u001b[0m\u001b[0m\n\u001b[0;32m---> 59\u001b[0;31m         \u001b[0mfd\u001b[0m \u001b[0;34m=\u001b[0m \u001b[0mopen\u001b[0m\u001b[0;34m(\u001b[0m\u001b[0mfd\u001b[0m\u001b[0;34m,\u001b[0m \u001b[0mmode\u001b[0m\u001b[0;34m=\u001b[0m\u001b[0mmode\u001b[0m\u001b[0;34m)\u001b[0m\u001b[0;34m\u001b[0m\u001b[0m\n\u001b[0m\u001b[1;32m     60\u001b[0m \u001b[0;34m\u001b[0m\u001b[0m\n\u001b[1;32m     61\u001b[0m     \u001b[0;32mreturn\u001b[0m \u001b[0mfd\u001b[0m\u001b[0;34m\u001b[0m\u001b[0m\n",
      "\u001b[0;31mIOError\u001b[0m: [Errno 2] No such file or directory: 'examples/12345.wav'"
     ]
    }
   ],
   "source": [
    "wav = AudioSegment.from_file(wav_path)\n",
    "\n",
    "wav"
   ]
  },
  {
   "cell_type": "code",
   "execution_count": null,
   "metadata": {},
   "outputs": [],
   "source": [
    "tier = get_pitch_tier(\"examples/12345.wav\")"
   ]
  },
  {
   "cell_type": "code",
   "execution_count": null,
   "metadata": {
    "collapsed": true
   },
   "outputs": [],
   "source": [
    "time, values = tier[\"time\"], tier[\"values\"]\n"
   ]
  },
  {
   "cell_type": "code",
   "execution_count": null,
   "metadata": {},
   "outputs": [],
   "source": [
    "scatter(time, values)"
   ]
  },
  {
   "cell_type": "code",
   "execution_count": null,
   "metadata": {
    "collapsed": true
   },
   "outputs": [],
   "source": [
    "mu = values.mean()\n",
    "increase_factor = 0.2"
   ]
  },
  {
   "cell_type": "code",
   "execution_count": null,
   "metadata": {
    "collapsed": true
   },
   "outputs": [],
   "source": [
    "l1 = time.min () + 0.8 * (time.max() - time.min())\n",
    "l2 = time.min () + 1.1 * (time.max() - time.min())\n",
    "\n",
    "\"\"\" Hice la cuenta de esto..\"\"\"\n",
    "a = (-increase_factor * mu) / float((l2 - l1)/2)**2\n",
    "\n",
    "def f(x):\n",
    "    if l1 <= x and x <= l2:\n",
    "        return a * (x - l1) * (x - l2)\n",
    "    else:\n",
    "        return 0\n",
    "\n",
    "t = np.arange(0, time.max(), 0.01)\n",
    "fv = np.vectorize(f)\n",
    "\n",
    "x = fv(time)"
   ]
  },
  {
   "cell_type": "code",
   "execution_count": null,
   "metadata": {},
   "outputs": [],
   "source": [
    "scatter(time, x)"
   ]
  },
  {
   "cell_type": "code",
   "execution_count": null,
   "metadata": {},
   "outputs": [],
   "source": [
    "scatter(time, x + values)"
   ]
  },
  {
   "cell_type": "code",
   "execution_count": null,
   "metadata": {
    "collapsed": true
   },
   "outputs": [],
   "source": [
    "import copy\n",
    "\n",
    "wav_path = \"examples/12345.wav\"\n",
    "\n",
    "def questionify_tier(tier, increase_factor = 0.2, limit1=0.8, limit2=1.1):\n",
    "    time, values = tier[\"time\"], tier[\"values\"]\n",
    "    \n",
    "    len(time)\n",
    "    l1 = time.min () + limit1 * (time.max() - time.min())\n",
    "    l2 = time.min () + limit2 * (time.max() - time.min())\n",
    "    \n",
    "\n",
    "    \"\"\" Hice la cuenta de esto..\"\"\"\n",
    "    a = (-increase_factor * mu) / float((l2 - l1)/2)**2\n",
    "\n",
    "    def f(x):\n",
    "        if l1 <= x and x <= l2:\n",
    "            return a * (x - l1) * (x - l2)\n",
    "        else:\n",
    "            return 0\n",
    "\n",
    "    t = np.arange(0, time.max(), 0.01)\n",
    "    fv = np.vectorize(f)\n",
    "    \n",
    "    scatter(t, fv(t))\n",
    "    x = fv(time)\n",
    "    \n",
    "    scatter(time, x+values, color=\"red\")\n",
    "    scatter(time, values, color=\"blue\")\n",
    "    new_tier = copy.deepcopy(tier)\n",
    "    \n",
    "    new_tier['values'] = x + values\n",
    "    \n",
    "    return new_tier"
   ]
  },
  {
   "cell_type": "code",
   "execution_count": null,
   "metadata": {},
   "outputs": [],
   "source": [
    "question_tier = questionify_tier(tier, increase_factor = 0.2, limit1=0.8, limit2=1.1)\n",
    "\n",
    "utils.pitch_tier.replace_pitch_tier(wav_path, question_tier, \"/tmp/question.wav\")"
   ]
  },
  {
   "cell_type": "code",
   "execution_count": null,
   "metadata": {},
   "outputs": [],
   "source": [
    "AudioSegment.from_file(\"/tmp/question.wav\")"
   ]
  },
  {
   "cell_type": "code",
   "execution_count": null,
   "metadata": {},
   "outputs": [],
   "source": [
    "import tempfile\n",
    "\n",
    "def questionify(wav_path, **kwargs):\n",
    "    tier = get_pitch_tier(wav_path)\n",
    "    \n",
    "    question_tier = questionify_tier(tier, **kwargs)\n",
    "\n",
    "    tmp_wav = tempfile.NamedTemporaryFile(suffix=\".wav\", delete=False)\n",
    "    \n",
    "    utils.pitch_tier.replace_pitch_tier(wav_path, question_tier, tmp_wav.name)\n",
    "    \n",
    "    return AudioSegment.from_file(tmp_wav.name)\n",
    "\n",
    "wav_path = \"examples/kAkamAla.wav\"\n",
    "\n",
    "wav = AudioSegment.from_file(wav_path)\n",
    "\n",
    "wav_question = questionify(wav_path, increase_factor=0.8)\n",
    "    \n",
    "display(wav)   \n",
    "    \n",
    "wav_question"
   ]
  },
  {
   "cell_type": "code",
   "execution_count": null,
   "metadata": {},
   "outputs": [],
   "source": [
    "wav_path = \"examples/recorded/kAkamAla.wav\"\n",
    "\n",
    "wav = AudioSegment.from_file(wav_path)\n",
    "\n",
    "wav_question = questionify(wav_path, increase_factor=0.8)\n",
    "    \n",
    "display(wav)   \n",
    "    \n",
    "print wav_question.duration_seconds"
   ]
  },
  {
   "cell_type": "markdown",
   "metadata": {},
   "source": [
    "# Probemos con lo que generamos nosotros. Estos ejemplos generales son muy difíciles"
   ]
  },
  {
   "cell_type": "code",
   "execution_count": null,
   "metadata": {
    "collapsed": true
   },
   "outputs": [],
   "source": []
  },
  {
   "cell_type": "code",
   "execution_count": null,
   "metadata": {},
   "outputs": [],
   "source": [
    "from tts import split_word_into_diphones\n",
    "import ConfigParser\n",
    "\n",
    "word = \"kAkamAla\"\n",
    "\n",
    "config = ConfigParser.ConfigParser()\n",
    "config.optionxform = str\n",
    "config.read(\"config.ini\")\n",
    "\n",
    "word_diphones = split_word_into_diphones(word)\n",
    "\n",
    "resp = AudioSegment.silent(0)\n",
    "print resp.duration_seconds\n",
    "print word_diphones\n",
    "current_sec = .0\n",
    "span = []\n",
    "\n",
    "for phono in word_diphones:\n",
    "    diphone = AudioSegment.from_wav(config.get(\"JMP\", phono))\n",
    "    span.append({\n",
    "        'diphone': phono, \n",
    "        'span': (current_sec, current_sec + diphone.duration_seconds) \n",
    "    })\n",
    "    \n",
    "    current_sec += diphone.duration_seconds\n",
    "    resp = resp + diphone\n",
    "\n",
    "wav = resp"
   ]
  },
  {
   "cell_type": "code",
   "execution_count": null,
   "metadata": {},
   "outputs": [],
   "source": [
    "temp_wav = tempfile.NamedTemporaryFile(suffix=\".wav\", delete=False)\n",
    "\n",
    "wav.export(temp_wav, format=\"wav\")\n",
    "\n",
    "wav"
   ]
  },
  {
   "cell_type": "code",
   "execution_count": null,
   "metadata": {
    "collapsed": true
   },
   "outputs": [],
   "source": [
    "\n",
    "def questionify_tier(tier, limit1, limit2, increase_factor=0.2):\n",
    "    time, values = tier[\"time\"], tier[\"values\"]\n",
    "\n",
    "    \"\"\" Hice la cuenta de esto..\"\"\"\n",
    "    a = (-increase_factor * mu) / float((limit2 - limit1)/2)**2\n",
    "\n",
    "    def f(x):\n",
    "        if limit1 <= x and x <= limit2:\n",
    "            return a * (x - l1) * (x - l2)\n",
    "        else:\n",
    "            return 0\n",
    "\n",
    "    t = np.arange(0, time.max(), 0.01)\n",
    "    fv = np.vectorize(f)\n",
    "    \n",
    "    scatter(t, fv(t))\n",
    "    x = fv(time)\n",
    "    \n",
    "    scatter(time, x+values, color=\"red\")\n",
    "    scatter(time, values, color=\"blue\")\n",
    "    new_tier = copy.deepcopy(tier)\n",
    "    \n",
    "    new_tier['values'] = x + values\n",
    "    \n",
    "    return new_tier"
   ]
  },
  {
   "cell_type": "markdown",
   "metadata": {},
   "source": [
    "\n",
    "Bueno, ahora vamos a hacer el salto en las dos últimas sílabas\n",
    "\n",
    "por ejemplo\n",
    "\n",
    "kAkamAla debería tener la parábola empezando en el difono `am`"
   ]
  },
  {
   "cell_type": "code",
   "execution_count": null,
   "metadata": {
    "collapsed": true
   },
   "outputs": [],
   "source": [
    "def questionify(wav_path, **kwargs):\n",
    "    tier = get_pitch_tier(wav_path)\n",
    "    \n",
    "    question_tier = questionify_tier(tier, **kwargs)\n",
    "\n",
    "    tmp_wav = tempfile.NamedTemporaryFile(suffix=\".wav\", delete=False)\n",
    "    \n",
    "    utils.pitch_tier.replace_pitch_tier(wav_path, question_tier, tmp_wav.name)\n",
    "    \n",
    "    return AudioSegment.from_file(tmp_wav.name)"
   ]
  },
  {
   "cell_type": "code",
   "execution_count": null,
   "metadata": {},
   "outputs": [],
   "source": [
    "print wav.duration_seconds\n",
    "print span"
   ]
  },
  {
   "cell_type": "code",
   "execution_count": null,
   "metadata": {},
   "outputs": [],
   "source": [
    "import tempfile\n",
    "\n",
    "\n",
    "\n",
    "l1 = 0.72\n",
    "l2 = 1.4\n",
    "\n",
    "print l1, l2\n",
    "\n",
    "question_wav = questionify(temp_wav.name, limit1=l1, limit2=l2, increase_factor=0.2)\n",
    "\n",
    "question_wav"
   ]
  },
  {
   "cell_type": "markdown",
   "metadata": {},
   "source": [
    "Esto da cualquier fruta, observemos:"
   ]
  },
  {
   "cell_type": "code",
   "execution_count": null,
   "metadata": {},
   "outputs": [],
   "source": [
    "question_wav.export(\"question.wav\")"
   ]
  },
  {
   "cell_type": "code",
   "execution_count": null,
   "metadata": {
    "collapsed": true
   },
   "outputs": [],
   "source": []
  }
 ],
 "metadata": {
  "kernelspec": {
   "display_name": "Python 2",
   "language": "python",
   "name": "python2"
  },
  "language_info": {
   "codemirror_mode": {
    "name": "ipython",
    "version": 2
   },
   "file_extension": ".py",
   "mimetype": "text/x-python",
   "name": "python",
   "nbconvert_exporter": "python",
   "pygments_lexer": "ipython2",
   "version": "2.7.12"
  }
 },
 "nbformat": 4,
 "nbformat_minor": 2
}
